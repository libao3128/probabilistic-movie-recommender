{
 "cells": [
  {
   "cell_type": "markdown",
   "id": "c4704bf0",
   "metadata": {},
   "source": [
    "# Markov Logic Network\n",
    "## Method Description  \n",
    "**Frequent Pattern Mining + Probabilistic Logic Reasoning for Preference Prediction**\n",
    "\n",
    "This method integrates **frequent pattern mining** and **probabilistic logic programming** to build an interpretable, rule-based recommendation model. The key steps are as follows:\n",
    "\n",
    "1. **User Preference Extraction**  \n",
    "   User-item ratings are binarized into preference indicators based on a threshold (e.g., rating ≥ 4.0). Each movie is mapped to a set of genres, allowing user preferences over genres to be derived.\n",
    "\n",
    "2. **Frequent Pattern Mining**  \n",
    "   Using the FP-Growth algorithm, frequent co-occurrence patterns among preferred genres are extracted. These patterns reflect genre combinations that are commonly liked by users.\n",
    "\n",
    "3. **Probabilistic Rule Generation**  \n",
    "   The mined frequent patterns are converted into **probabilistic logical rules** in the ProbLog language. For example, a pattern such as {action, thriller} → western is encoded as: \n",
    "   `0.03::prefers(U, western) :- prefers(U, action), prefers(U, thriller).`\n",
    "   These soft rules define the probabilistic influence of known genre preferences on inferring new ones.\n",
    "\n",
    "4. **Personalized Logic Programs**  \n",
    "For each user, a personalized ProbLog program is generated, consisting of observed preferences and applicable probabilistic rules. This forms a probabilistic knowledge base for that user.\n",
    "\n",
    "5. **Inference and Evaluation**  \n",
    "The ProbLog engine performs probabilistic inference to estimate the likelihood of unknown preferences. Predictions are evaluated using RMSE and MAE to measure how well inferred preferences match actual ratings in a test set.\n",
    "\n",
    "---\n",
    "\n",
    "### 🔍 Highlights\n",
    "\n",
    "- Combines data-driven patterns (via FP-Growth) with interpretable logic rules.\n",
    "- Provides **transparent and explainable reasoning paths** from known preferences to inferred ones.\n",
    "- Uses **ProbLog** as a lightweight alternative to MLN to perform **probabilistic soft reasoning** over discrete preference predicates.\n",
    "\n"
   ]
  },
  {
   "cell_type": "code",
   "execution_count": 26,
   "id": "232c38d2",
   "metadata": {},
   "outputs": [],
   "source": [
    "import pandas as pd\n",
    "from collections import defaultdict\n",
    "from PAMI.frequentPattern.basic import FPGrowth as alg\n",
    "from problog.program import PrologString\n",
    "from problog import get_evaluatable\n",
    "from problog.logic import Term, Constant, Var\n",
    "#from problog.tasks.explain import Explain\n",
    "from sklearn.model_selection import train_test_split\n",
    "from tqdm import tqdm\n",
    "import re\n",
    "import matplotlib.pyplot as plt"
   ]
  },
  {
   "cell_type": "markdown",
   "id": "d018c8c9",
   "metadata": {},
   "source": [
    "## Hyper-Parameter"
   ]
  },
  {
   "cell_type": "code",
   "execution_count": 27,
   "id": "71040dce",
   "metadata": {},
   "outputs": [],
   "source": [
    "preference_rating_threshold = 4.0 # threshold for rating to be considered preference\n",
    "preference_threshold = 0.05 # threshold for preference to be considered significant\n",
    "min_support = 0.01 # minimum support for frequent patterns\n",
    "alpha = 0.5 # the probability of a user liking an item if the item has a genre they like"
   ]
  },
  {
   "cell_type": "markdown",
   "id": "b7fa67cf",
   "metadata": {},
   "source": [
    "## Load Data"
   ]
  },
  {
   "cell_type": "code",
   "execution_count": 28,
   "id": "a872e0bd",
   "metadata": {},
   "outputs": [],
   "source": [
    "genres = [\n",
    "    \"Action\",\n",
    "    \"Adventure\",\n",
    "    \"Animation\",\n",
    "    \"Children\",\n",
    "    \"Comedy\",\n",
    "    \"Crime\",\n",
    "    \"Documentary\",\n",
    "    \"Drama\",\n",
    "    \"Fantasy\",\n",
    "    \"Film-Noir\",\n",
    "    \"Horror\",\n",
    "    \"Musical\",\n",
    "    \"Mystery\",\n",
    "    \"Romance\",\n",
    "    \"Sci-Fi\",\n",
    "    \"Thriller\",\n",
    "    \"War\",\n",
    "    \"Western\",\n",
    "    \"IMAX\"\n",
    "]"
   ]
  },
  {
   "cell_type": "code",
   "execution_count": 29,
   "id": "6dcd38ed",
   "metadata": {},
   "outputs": [
    {
     "data": {
      "text/html": [
       "<div>\n",
       "<style scoped>\n",
       "    .dataframe tbody tr th:only-of-type {\n",
       "        vertical-align: middle;\n",
       "    }\n",
       "\n",
       "    .dataframe tbody tr th {\n",
       "        vertical-align: top;\n",
       "    }\n",
       "\n",
       "    .dataframe thead th {\n",
       "        text-align: right;\n",
       "    }\n",
       "</style>\n",
       "<table border=\"1\" class=\"dataframe\">\n",
       "  <thead>\n",
       "    <tr style=\"text-align: right;\">\n",
       "      <th></th>\n",
       "      <th>title</th>\n",
       "      <th>genres</th>\n",
       "      <th>genres_list</th>\n",
       "    </tr>\n",
       "    <tr>\n",
       "      <th>movieId</th>\n",
       "      <th></th>\n",
       "      <th></th>\n",
       "      <th></th>\n",
       "    </tr>\n",
       "  </thead>\n",
       "  <tbody>\n",
       "    <tr>\n",
       "      <th>1</th>\n",
       "      <td>Toy Story (1995)</td>\n",
       "      <td>Adventure|Animation|Children|Comedy|Fantasy</td>\n",
       "      <td>[Adventure, Animation, Children, Comedy, Fantasy]</td>\n",
       "    </tr>\n",
       "    <tr>\n",
       "      <th>2</th>\n",
       "      <td>Jumanji (1995)</td>\n",
       "      <td>Adventure|Children|Fantasy</td>\n",
       "      <td>[Adventure, Children, Fantasy]</td>\n",
       "    </tr>\n",
       "    <tr>\n",
       "      <th>3</th>\n",
       "      <td>Grumpier Old Men (1995)</td>\n",
       "      <td>Comedy|Romance</td>\n",
       "      <td>[Comedy, Romance]</td>\n",
       "    </tr>\n",
       "    <tr>\n",
       "      <th>4</th>\n",
       "      <td>Waiting to Exhale (1995)</td>\n",
       "      <td>Comedy|Drama|Romance</td>\n",
       "      <td>[Comedy, Drama, Romance]</td>\n",
       "    </tr>\n",
       "    <tr>\n",
       "      <th>5</th>\n",
       "      <td>Father of the Bride Part II (1995)</td>\n",
       "      <td>Comedy</td>\n",
       "      <td>[Comedy]</td>\n",
       "    </tr>\n",
       "  </tbody>\n",
       "</table>\n",
       "</div>"
      ],
      "text/plain": [
       "                                      title  \\\n",
       "movieId                                       \n",
       "1                          Toy Story (1995)   \n",
       "2                            Jumanji (1995)   \n",
       "3                   Grumpier Old Men (1995)   \n",
       "4                  Waiting to Exhale (1995)   \n",
       "5        Father of the Bride Part II (1995)   \n",
       "\n",
       "                                              genres  \\\n",
       "movieId                                                \n",
       "1        Adventure|Animation|Children|Comedy|Fantasy   \n",
       "2                         Adventure|Children|Fantasy   \n",
       "3                                     Comedy|Romance   \n",
       "4                               Comedy|Drama|Romance   \n",
       "5                                             Comedy   \n",
       "\n",
       "                                               genres_list  \n",
       "movieId                                                     \n",
       "1        [Adventure, Animation, Children, Comedy, Fantasy]  \n",
       "2                           [Adventure, Children, Fantasy]  \n",
       "3                                        [Comedy, Romance]  \n",
       "4                                 [Comedy, Drama, Romance]  \n",
       "5                                                 [Comedy]  "
      ]
     },
     "execution_count": 29,
     "metadata": {},
     "output_type": "execute_result"
    }
   ],
   "source": [
    "data = pd.read_csv(r'data\\ml-latest-small\\ml-latest-small\\ratings.csv')\n",
    "movies = pd.read_csv(r'data\\ml-latest-small\\ml-latest-small\\movies.csv', index_col='movieId')\n",
    "\n",
    "movies['genres_list'] = movies['genres'].apply(lambda x: x.split('|'))\n",
    "movies.head()"
   ]
  },
  {
   "cell_type": "code",
   "execution_count": 30,
   "id": "b8724033",
   "metadata": {},
   "outputs": [],
   "source": [
    "train_data, test_data = train_test_split(data, test_size=0.2, random_state=42)"
   ]
  },
  {
   "cell_type": "markdown",
   "id": "038f41a6",
   "metadata": {},
   "source": [
    "## Feature Engineering"
   ]
  },
  {
   "cell_type": "markdown",
   "id": "7b7f632f",
   "metadata": {},
   "source": [
    "### Discover user preference"
   ]
  },
  {
   "cell_type": "code",
   "execution_count": 31,
   "id": "d9722c83",
   "metadata": {},
   "outputs": [
    {
     "data": {
      "text/html": [
       "<div>\n",
       "<style scoped>\n",
       "    .dataframe tbody tr th:only-of-type {\n",
       "        vertical-align: middle;\n",
       "    }\n",
       "\n",
       "    .dataframe tbody tr th {\n",
       "        vertical-align: top;\n",
       "    }\n",
       "\n",
       "    .dataframe thead th {\n",
       "        text-align: right;\n",
       "    }\n",
       "</style>\n",
       "<table border=\"1\" class=\"dataframe\">\n",
       "  <thead>\n",
       "    <tr style=\"text-align: right;\">\n",
       "      <th></th>\n",
       "      <th>userId</th>\n",
       "      <th>movieId</th>\n",
       "      <th>rating</th>\n",
       "      <th>timestamp</th>\n",
       "    </tr>\n",
       "  </thead>\n",
       "  <tbody>\n",
       "    <tr>\n",
       "      <th>50582</th>\n",
       "      <td>326</td>\n",
       "      <td>71462</td>\n",
       "      <td>4.0</td>\n",
       "      <td>1322252335</td>\n",
       "    </tr>\n",
       "    <tr>\n",
       "      <th>99603</th>\n",
       "      <td>610</td>\n",
       "      <td>1127</td>\n",
       "      <td>4.0</td>\n",
       "      <td>1479544102</td>\n",
       "    </tr>\n",
       "    <tr>\n",
       "      <th>52544</th>\n",
       "      <td>343</td>\n",
       "      <td>2329</td>\n",
       "      <td>4.0</td>\n",
       "      <td>1202061289</td>\n",
       "    </tr>\n",
       "    <tr>\n",
       "      <th>64437</th>\n",
       "      <td>414</td>\n",
       "      <td>36517</td>\n",
       "      <td>4.0</td>\n",
       "      <td>1139849175</td>\n",
       "    </tr>\n",
       "    <tr>\n",
       "      <th>22977</th>\n",
       "      <td>156</td>\n",
       "      <td>3072</td>\n",
       "      <td>4.0</td>\n",
       "      <td>946799453</td>\n",
       "    </tr>\n",
       "    <tr>\n",
       "      <th>...</th>\n",
       "      <td>...</td>\n",
       "      <td>...</td>\n",
       "      <td>...</td>\n",
       "      <td>...</td>\n",
       "    </tr>\n",
       "    <tr>\n",
       "      <th>82386</th>\n",
       "      <td>522</td>\n",
       "      <td>86347</td>\n",
       "      <td>5.0</td>\n",
       "      <td>1388124972</td>\n",
       "    </tr>\n",
       "    <tr>\n",
       "      <th>6265</th>\n",
       "      <td>42</td>\n",
       "      <td>4005</td>\n",
       "      <td>4.0</td>\n",
       "      <td>996259059</td>\n",
       "    </tr>\n",
       "    <tr>\n",
       "      <th>54886</th>\n",
       "      <td>364</td>\n",
       "      <td>141</td>\n",
       "      <td>4.0</td>\n",
       "      <td>869443367</td>\n",
       "    </tr>\n",
       "    <tr>\n",
       "      <th>76820</th>\n",
       "      <td>480</td>\n",
       "      <td>6867</td>\n",
       "      <td>4.0</td>\n",
       "      <td>1179163171</td>\n",
       "    </tr>\n",
       "    <tr>\n",
       "      <th>15795</th>\n",
       "      <td>103</td>\n",
       "      <td>6711</td>\n",
       "      <td>5.0</td>\n",
       "      <td>1431957425</td>\n",
       "    </tr>\n",
       "  </tbody>\n",
       "</table>\n",
       "<p>38889 rows × 4 columns</p>\n",
       "</div>"
      ],
      "text/plain": [
       "       userId  movieId  rating   timestamp\n",
       "50582     326    71462     4.0  1322252335\n",
       "99603     610     1127     4.0  1479544102\n",
       "52544     343     2329     4.0  1202061289\n",
       "64437     414    36517     4.0  1139849175\n",
       "22977     156     3072     4.0   946799453\n",
       "...       ...      ...     ...         ...\n",
       "82386     522    86347     5.0  1388124972\n",
       "6265       42     4005     4.0   996259059\n",
       "54886     364      141     4.0   869443367\n",
       "76820     480     6867     4.0  1179163171\n",
       "15795     103     6711     5.0  1431957425\n",
       "\n",
       "[38889 rows x 4 columns]"
      ]
     },
     "execution_count": 31,
     "metadata": {},
     "output_type": "execute_result"
    }
   ],
   "source": [
    "# ratings: DataFrame with userId, movieId, rating\n",
    "binary_ratings = train_data[train_data[\"rating\"] >= preference_rating_threshold]\n",
    "binary_ratings"
   ]
  },
  {
   "cell_type": "code",
   "execution_count": 32,
   "id": "e6ea743a",
   "metadata": {},
   "outputs": [
    {
     "data": {
      "text/html": [
       "<div>\n",
       "<style scoped>\n",
       "    .dataframe tbody tr th:only-of-type {\n",
       "        vertical-align: middle;\n",
       "    }\n",
       "\n",
       "    .dataframe tbody tr th {\n",
       "        vertical-align: top;\n",
       "    }\n",
       "\n",
       "    .dataframe thead th {\n",
       "        text-align: right;\n",
       "    }\n",
       "</style>\n",
       "<table border=\"1\" class=\"dataframe\">\n",
       "  <thead>\n",
       "    <tr style=\"text-align: right;\">\n",
       "      <th></th>\n",
       "      <th>Action</th>\n",
       "      <th>Adventure</th>\n",
       "      <th>Animation</th>\n",
       "      <th>Children</th>\n",
       "      <th>Comedy</th>\n",
       "      <th>Crime</th>\n",
       "      <th>Documentary</th>\n",
       "      <th>Drama</th>\n",
       "      <th>Fantasy</th>\n",
       "      <th>Film-Noir</th>\n",
       "      <th>Horror</th>\n",
       "      <th>Musical</th>\n",
       "      <th>Mystery</th>\n",
       "      <th>Romance</th>\n",
       "      <th>Sci-Fi</th>\n",
       "      <th>Thriller</th>\n",
       "      <th>War</th>\n",
       "      <th>Western</th>\n",
       "      <th>IMAX</th>\n",
       "    </tr>\n",
       "  </thead>\n",
       "  <tbody>\n",
       "    <tr>\n",
       "      <th>326</th>\n",
       "      <td>6.909524</td>\n",
       "      <td>5.566667</td>\n",
       "      <td>0.000000</td>\n",
       "      <td>0.000000</td>\n",
       "      <td>4.333333</td>\n",
       "      <td>8.942857</td>\n",
       "      <td>3.500000</td>\n",
       "      <td>35.809524</td>\n",
       "      <td>0.750000</td>\n",
       "      <td>0.250000</td>\n",
       "      <td>0.833333</td>\n",
       "      <td>0.000000</td>\n",
       "      <td>1.626190</td>\n",
       "      <td>3.400000</td>\n",
       "      <td>1.009524</td>\n",
       "      <td>12.309524</td>\n",
       "      <td>6.033333</td>\n",
       "      <td>0.333333</td>\n",
       "      <td>0.392857</td>\n",
       "    </tr>\n",
       "    <tr>\n",
       "      <th>610</th>\n",
       "      <td>55.909524</td>\n",
       "      <td>28.966667</td>\n",
       "      <td>8.850000</td>\n",
       "      <td>4.850000</td>\n",
       "      <td>68.100000</td>\n",
       "      <td>38.959524</td>\n",
       "      <td>3.500000</td>\n",
       "      <td>90.909524</td>\n",
       "      <td>14.533333</td>\n",
       "      <td>0.883333</td>\n",
       "      <td>39.966667</td>\n",
       "      <td>2.650000</td>\n",
       "      <td>14.209524</td>\n",
       "      <td>13.850000</td>\n",
       "      <td>29.742857</td>\n",
       "      <td>59.476190</td>\n",
       "      <td>6.783333</td>\n",
       "      <td>4.183333</td>\n",
       "      <td>5.676190</td>\n",
       "    </tr>\n",
       "    <tr>\n",
       "      <th>343</th>\n",
       "      <td>1.866667</td>\n",
       "      <td>2.450000</td>\n",
       "      <td>0.783333</td>\n",
       "      <td>0.450000</td>\n",
       "      <td>4.366667</td>\n",
       "      <td>4.166667</td>\n",
       "      <td>2.000000</td>\n",
       "      <td>5.750000</td>\n",
       "      <td>1.250000</td>\n",
       "      <td>0.250000</td>\n",
       "      <td>0.833333</td>\n",
       "      <td>0.000000</td>\n",
       "      <td>1.083333</td>\n",
       "      <td>1.166667</td>\n",
       "      <td>1.666667</td>\n",
       "      <td>3.250000</td>\n",
       "      <td>0.333333</td>\n",
       "      <td>0.333333</td>\n",
       "      <td>0.000000</td>\n",
       "    </tr>\n",
       "    <tr>\n",
       "      <th>414</th>\n",
       "      <td>61.409524</td>\n",
       "      <td>49.269048</td>\n",
       "      <td>17.052381</td>\n",
       "      <td>19.035714</td>\n",
       "      <td>172.002381</td>\n",
       "      <td>53.526190</td>\n",
       "      <td>20.833333</td>\n",
       "      <td>290.652381</td>\n",
       "      <td>25.842857</td>\n",
       "      <td>2.200000</td>\n",
       "      <td>9.033333</td>\n",
       "      <td>12.726190</td>\n",
       "      <td>16.242857</td>\n",
       "      <td>71.626190</td>\n",
       "      <td>38.852381</td>\n",
       "      <td>67.876190</td>\n",
       "      <td>22.116667</td>\n",
       "      <td>10.866667</td>\n",
       "      <td>5.835714</td>\n",
       "    </tr>\n",
       "    <tr>\n",
       "      <th>156</th>\n",
       "      <td>2.866667</td>\n",
       "      <td>6.066667</td>\n",
       "      <td>0.700000</td>\n",
       "      <td>2.033333</td>\n",
       "      <td>32.000000</td>\n",
       "      <td>13.950000</td>\n",
       "      <td>2.000000</td>\n",
       "      <td>57.866667</td>\n",
       "      <td>3.616667</td>\n",
       "      <td>3.583333</td>\n",
       "      <td>0.833333</td>\n",
       "      <td>2.866667</td>\n",
       "      <td>7.400000</td>\n",
       "      <td>17.483333</td>\n",
       "      <td>1.083333</td>\n",
       "      <td>10.566667</td>\n",
       "      <td>3.916667</td>\n",
       "      <td>0.833333</td>\n",
       "      <td>0.333333</td>\n",
       "    </tr>\n",
       "  </tbody>\n",
       "</table>\n",
       "</div>"
      ],
      "text/plain": [
       "        Action  Adventure  Animation   Children      Comedy      Crime  \\\n",
       "326   6.909524   5.566667   0.000000   0.000000    4.333333   8.942857   \n",
       "610  55.909524  28.966667   8.850000   4.850000   68.100000  38.959524   \n",
       "343   1.866667   2.450000   0.783333   0.450000    4.366667   4.166667   \n",
       "414  61.409524  49.269048  17.052381  19.035714  172.002381  53.526190   \n",
       "156   2.866667   6.066667   0.700000   2.033333   32.000000  13.950000   \n",
       "\n",
       "     Documentary       Drama    Fantasy  Film-Noir     Horror    Musical  \\\n",
       "326     3.500000   35.809524   0.750000   0.250000   0.833333   0.000000   \n",
       "610     3.500000   90.909524  14.533333   0.883333  39.966667   2.650000   \n",
       "343     2.000000    5.750000   1.250000   0.250000   0.833333   0.000000   \n",
       "414    20.833333  290.652381  25.842857   2.200000   9.033333  12.726190   \n",
       "156     2.000000   57.866667   3.616667   3.583333   0.833333   2.866667   \n",
       "\n",
       "       Mystery    Romance     Sci-Fi   Thriller        War    Western  \\\n",
       "326   1.626190   3.400000   1.009524  12.309524   6.033333   0.333333   \n",
       "610  14.209524  13.850000  29.742857  59.476190   6.783333   4.183333   \n",
       "343   1.083333   1.166667   1.666667   3.250000   0.333333   0.333333   \n",
       "414  16.242857  71.626190  38.852381  67.876190  22.116667  10.866667   \n",
       "156   7.400000  17.483333   1.083333  10.566667   3.916667   0.833333   \n",
       "\n",
       "         IMAX  \n",
       "326  0.392857  \n",
       "610  5.676190  \n",
       "343  0.000000  \n",
       "414  5.835714  \n",
       "156  0.333333  "
      ]
     },
     "execution_count": 32,
     "metadata": {},
     "output_type": "execute_result"
    }
   ],
   "source": [
    "user_preferences = pd.DataFrame(index=binary_ratings['userId'].unique(), columns=genres, dtype=float).fillna(0)\n",
    "for row in binary_ratings.itertuples():\n",
    "    movie_genres = movies.loc[row.movieId, 'genres_list']\n",
    "    total_utility = len(movie_genres)\n",
    "    #print(movie_genres)\n",
    "    for genre in movie_genres:\n",
    "        if genre not in user_preferences.columns:\n",
    "            continue\n",
    "        user_preferences.at[row.userId, genre] += 1/total_utility\n",
    "user_preferences.head()"
   ]
  },
  {
   "cell_type": "markdown",
   "id": "c6bb364e",
   "metadata": {},
   "source": [
    "### Frequent Pattern Mining"
   ]
  },
  {
   "cell_type": "code",
   "execution_count": 33,
   "id": "f05f7d78",
   "metadata": {},
   "outputs": [],
   "source": [
    "# Normalize user preferences\n",
    "normalized_user_preferences = user_preferences.div(user_preferences.sum(axis=1), axis=0)\n",
    "# Convert normalized preferences to binary based on the threshold\n",
    "binary_user_preferences = normalized_user_preferences>=preference_threshold"
   ]
  },
  {
   "cell_type": "code",
   "execution_count": 34,
   "id": "d079f4e5",
   "metadata": {},
   "outputs": [
    {
     "data": {
      "image/png": "[encoded data removed]",
      "text/plain": [
       "<Figure size 640x480 with 1 Axes>"
      ]
     },
     "metadata": {},
     "output_type": "display_data"
    }
   ],
   "source": [
    "number_of_preferences = binary_user_preferences.sum(axis=1)\n",
    "number_of_preferences.hist(bins=20)\n",
    "plt.xlabel('Number of Preferences')\n",
    "plt.ylabel('Number of Users')\n",
    "plt.title('Distribution of Number of Preferences per User')\n",
    "plt.show()"
   ]
  },
  {
   "cell_type": "code",
   "execution_count": 35,
   "id": "921da55c",
   "metadata": {},
   "outputs": [],
   "source": [
    "transactions = defaultdict(list)\n",
    "for userId in binary_user_preferences.index:\n",
    "    transactions[userId] = binary_user_preferences.columns[binary_user_preferences.loc[userId]].tolist()\n",
    "    #user_preferences.loc[userId, user_preferences.loc[userId] == False] = 0"
   ]
  },
  {
   "cell_type": "code",
   "execution_count": 36,
   "id": "94aa52b2",
   "metadata": {},
   "outputs": [],
   "source": [
    "transactions_df = pd.DataFrame(columns=[\"Transactions\"])\n",
    "for userId, items in transactions.items():\n",
    "    transactions_df.loc[userId, 'Transactions'] = \",\".join(list(set(items)))"
   ]
  },
  {
   "cell_type": "code",
   "execution_count": 37,
   "id": "13a0f589",
   "metadata": {},
   "outputs": [
    {
     "name": "stdout",
     "output_type": "stream",
     "text": [
      "Frequent patterns were generated successfully using frequentPatternGrowth algorithm\n",
      "Total No of patterns: 1910\n",
      "Runtime: 0.023337125778198242\n",
      "Memory (RSS): 327671808\n",
      "Memory (USS): 280104960\n"
     ]
    }
   ],
   "source": [
    "minSup=300\n",
    "obj = alg.FPGrowth(iFile=transactions_df, minSup=min_support, sep=',')\n",
    "#obj.mine()  #deprecated\n",
    "obj.mine()\n",
    "obj.save('mln/frequentPatterns.txt')\n",
    "frequentPatternsDF= obj.getPatternsAsDataFrame()\n",
    "print('Total No of patterns: ' + str(len(frequentPatternsDF))) #print the total number of patterns\n",
    "print('Runtime: ' + str(obj.getRuntime())) #measure the runtime\n",
    "print('Memory (RSS): ' + str(obj.getMemoryRSS()))\n",
    "print('Memory (USS): ' + str(obj.getMemoryUSS()))"
   ]
  },
  {
   "cell_type": "code",
   "execution_count": 38,
   "id": "08e571ea",
   "metadata": {},
   "outputs": [],
   "source": [
    "frequentPatternsDF['Patterns'] = frequentPatternsDF['Patterns'].apply(lambda x: ' '.join(sorted(x.split())))\n",
    "pattern_dict = {row['Patterns']: row['Support'] for index, row in frequentPatternsDF.iterrows()}"
   ]
  },
  {
   "cell_type": "markdown",
   "id": "245c1716",
   "metadata": {},
   "source": [
    "## Create MLN database"
   ]
  },
  {
   "cell_type": "markdown",
   "id": "b5d067a5",
   "metadata": {},
   "source": [
    "### World"
   ]
  },
  {
   "cell_type": "code",
   "execution_count": 39,
   "id": "4e5b76d2",
   "metadata": {},
   "outputs": [],
   "source": [
    "with open('mln/world.pl', 'w') as f:\n",
    "    f.write(f'{alpha}::likes(U, M) :- prefers(U, G), has_genre(M, G).\\n')\n",
    "    for userId, items in transactions.items():\n",
    "        for item in items:\n",
    "            f.write(f'prefers(user{userId}, {item.lower()}).\\n')\n",
    "\n",
    "    for movieId, row in movies.iterrows():\n",
    "        for genre in row['genres_list']:\n",
    "            if genre == '(no genres listed)':\n",
    "                continue\n",
    "            f.write(f'has_genre(movie{movieId}, {genre.lower()}).\\n')"
   ]
  },
  {
   "cell_type": "markdown",
   "id": "b17bf0cf",
   "metadata": {},
   "source": [
    "### Preference"
   ]
  },
  {
   "cell_type": "code",
   "execution_count": 40,
   "id": "993f682f",
   "metadata": {},
   "outputs": [],
   "source": [
    "with open('mln/preference.pl', 'w') as f:\n",
    "    # rules 定義\n",
    "    for row in frequentPatternsDF.itertuples(index=True):\n",
    "        items = row.Patterns.split()\n",
    "        if len(items) < 2:\n",
    "            continue\n",
    "        total_support = pattern_dict[' '.join(items[:-1])]\n",
    "        sub_total_support = row.Support\n",
    "        f.write(f'{sub_total_support/total_support:.2f}::prefers(u, {items[-1].lower()}) :-')\n",
    "        for item in items[:-1]:\n",
    "            f.write(f'prefers(u, {item.lower()})')\n",
    "            if item != items[-2]:\n",
    "                f.write(', ')\n",
    "\n",
    "        f.write(f'.\\n')"
   ]
  },
  {
   "cell_type": "markdown",
   "id": "0f0c36f6",
   "metadata": {},
   "source": [
    "### Query (For prediction)"
   ]
  },
  {
   "cell_type": "code",
   "execution_count": 41,
   "id": "6868800f",
   "metadata": {},
   "outputs": [],
   "source": [
    "with open('mln/query.pl', 'w') as f:\n",
    "    for row in test_data.iloc[:].itertuples():\n",
    "        f.write(f'query(likes(user{row.userId}, movie{row.movieId})).\\n')"
   ]
  },
  {
   "cell_type": "markdown",
   "id": "7282befb",
   "metadata": {},
   "source": [
    "## Predict"
   ]
  },
  {
   "cell_type": "code",
   "execution_count": 42,
   "id": "147bc3f0",
   "metadata": {},
   "outputs": [],
   "source": [
    "world_str = open('mln/world.pl').read() + open('mln/preference.pl').read()\n",
    "queries = open('mln/query.pl').read().splitlines()"
   ]
  },
  {
   "cell_type": "code",
   "execution_count": 43,
   "id": "06d59969",
   "metadata": {},
   "outputs": [],
   "source": [
    "def parse_result(result):\n",
    "    parsed = pd.DataFrame(columns=['userId', 'movieId', 'probability'])\n",
    "    for key, value in result.items():\n",
    "        if isinstance(key, Term):\n",
    "            #print(key.args[0])\n",
    "            user = str(key.args[0])\n",
    "            movie = str(key.args[1])\n",
    "            parsed.loc[len(parsed)] = {\n",
    "                'userId': int(user[4:]),  # Extract userId from Term\n",
    "                'movieId': int(movie[5:]),  # Extract movieId from Term\n",
    "                'probability': value\n",
    "            }\n",
    "    return parsed"
   ]
  },
  {
   "cell_type": "code",
   "execution_count": 44,
   "id": "d0898241",
   "metadata": {},
   "outputs": [
    {
     "name": "stderr",
     "output_type": "stream",
     "text": [
      "Evaluating queries:   0%|          | 0/20168 [00:00<?, ?it/s]C:\\Users\\USER\\AppData\\Local\\Temp\\ipykernel_5400\\1516596972.py:10: FutureWarning: The behavior of DataFrame concatenation with empty or all-NA entries is deprecated. In a future version, this will no longer exclude empty or all-NA columns when determining the result dtypes. To retain the old behavior, exclude the relevant entries before the concat operation.\n",
      "  prediction = pd.concat([prediction, result], ignore_index=True)\n",
      "Evaluating queries: 100%|██████████| 20168/20168 [11:20<00:00, 29.63it/s]\n"
     ]
    }
   ],
   "source": [
    "batch_size = 1000\n",
    "prediction = pd.DataFrame(columns=['userId', 'movieId', 'probability'])\n",
    "\n",
    "with tqdm(total=len(queries)) as pbar:\n",
    "    pbar.set_description(\"Evaluating queries\")\n",
    "    for i in range(0, len(queries), batch_size):\n",
    "        batch_queries = queries[i:i + batch_size]\n",
    "        query_str = \"\\n\".join(batch_queries)\n",
    "        result = parse_result(get_evaluatable().create_from(PrologString(world_str + query_str)).evaluate())\n",
    "        prediction = pd.concat([prediction, result], ignore_index=True)\n",
    "        pbar.update(len(batch_queries))\n",
    "\n",
    "prediction['rating'] = (prediction['probability']*4.5)+0.5 # Scale the probability to a rating between 0.5 and 5"
   ]
  },
  {
   "cell_type": "code",
   "execution_count": 45,
   "id": "510fffa0",
   "metadata": {},
   "outputs": [],
   "source": [
    "prediction.to_csv('mln/prediction.csv', index=False)"
   ]
  },
  {
   "cell_type": "markdown",
   "id": "569ef3df",
   "metadata": {},
   "source": [
    "## Evaluation"
   ]
  },
  {
   "cell_type": "code",
   "execution_count": 46,
   "id": "ea495def",
   "metadata": {},
   "outputs": [
    {
     "data": {
      "text/plain": [
       "Text(0, 0.5, 'Frequency')"
      ]
     },
     "execution_count": 46,
     "metadata": {},
     "output_type": "execute_result"
    },
    {
     "data": {
      "image/png": "[encoded data removed]",
      "text/plain": [
       "<Figure size 640x480 with 1 Axes>"
      ]
     },
     "metadata": {},
     "output_type": "display_data"
    }
   ],
   "source": [
    "test_data['rating'].hist(bins=20, edgecolor='black')\n",
    "plt.title('Distribution of Ratings')\n",
    "plt.xlabel('Rating')\n",
    "plt.ylabel('Frequency')"
   ]
  },
  {
   "cell_type": "code",
   "execution_count": 47,
   "id": "b2718313",
   "metadata": {},
   "outputs": [
    {
     "data": {
      "text/plain": [
       "Text(0.5, 1.0, 'Distribution of Predicted Ratings')"
      ]
     },
     "execution_count": 47,
     "metadata": {},
     "output_type": "execute_result"
    },
    {
     "data": {
      "image/png": "[encoded data removed]",
      "text/plain": [
       "<Figure size 640x480 with 1 Axes>"
      ]
     },
     "metadata": {},
     "output_type": "display_data"
    }
   ],
   "source": [
    "prediction['rating'].hist(bins=20)\n",
    "plt.xlabel('Rating')\n",
    "plt.ylabel('Frequency')\n",
    "plt.title('Distribution of Predicted Ratings')"
   ]
  },
  {
   "cell_type": "code",
   "execution_count": 48,
   "id": "871ea673",
   "metadata": {},
   "outputs": [],
   "source": [
    "y_pred = test_data.merge(prediction, on=['userId', 'movieId'], how='left')['rating_y']\n",
    "y_true = test_data['rating']"
   ]
  },
  {
   "cell_type": "code",
   "execution_count": 49,
   "id": "d55f5bab",
   "metadata": {},
   "outputs": [
    {
     "data": {
      "text/plain": [
       "Text(0, 0.5, 'Predicted Ratings')"
      ]
     },
     "execution_count": 49,
     "metadata": {},
     "output_type": "execute_result"
    },
    {
     "data": {
      "image/png": "[encoded data removed]",
      "text/plain": [
       "<Figure size 640x480 with 1 Axes>"
      ]
     },
     "metadata": {},
     "output_type": "display_data"
    }
   ],
   "source": [
    "plt.scatter(y_true, y_pred, alpha=0.5)\n",
    "plt.xlabel('True Ratings')\n",
    "plt.ylabel('Predicted Ratings')"
   ]
  },
  {
   "cell_type": "code",
   "execution_count": 50,
   "id": "2cee46cc",
   "metadata": {},
   "outputs": [
    {
     "name": "stdout",
     "output_type": "stream",
     "text": [
      "RMSE: 1.3301 | MAE: 1.0390\n"
     ]
    }
   ],
   "source": [
    "from sklearn.metrics import root_mean_squared_error, mean_absolute_error\n",
    "rmse = root_mean_squared_error(y_true, y_pred)\n",
    "mae = mean_absolute_error(y_true, y_pred)\n",
    "print(f'RMSE: {rmse:.4f} | MAE: {mae:.4f}')"
   ]
  }
 ],
 "metadata": {
  "kernelspec": {
   "display_name": "Python 3",
   "language": "python",
   "name": "python3"
  },
  "language_info": {
   "codemirror_mode": {
    "name": "ipython",
    "version": 3
   },
   "file_extension": ".py",
   "mimetype": "text/x-python",
   "name": "python",
   "nbconvert_exporter": "python",
   "pygments_lexer": "ipython3",
   "version": "3.13.2"
  }
 },
 "nbformat": 4,
 "nbformat_minor": 5
}
