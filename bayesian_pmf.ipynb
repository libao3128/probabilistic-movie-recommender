{
  "cells": [
    {
      "cell_type": "code",
      "execution_count": null,
      "metadata": {
        "id": "jEnuyltunZdP"
      },
      "outputs": [],
      "source": [
        "!pip install pymc arviz numpy pandas matplotlib --quiet\n"
      ]
    },
    {
      "cell_type": "code",
      "source": [
        "from google.colab import drive\n",
        "drive.mount('/content/drive')\n",
        "data = 'content/drive/MyDrive/ml-latest-small/'"
      ],
      "metadata": {
        "colab": {
          "base_uri": "https://localhost:8080/"
        },
        "id": "95X9oW_6E0uR",
        "outputId": "02f0386d-d9d4-4d04-f3cf-b838037483f6"
      },
      "execution_count": 14,
      "outputs": [
        {
          "output_type": "stream",
          "name": "stdout",
          "text": [
            "Drive already mounted at /content/drive; to attempt to forcibly remount, call drive.mount(\"/content/drive\", force_remount=True).\n"
          ]
        }
      ]
    },
    {
      "cell_type": "code",
      "source": [
        "import pymc as pm\n",
        "import numpy as np\n",
        "import pandas as pd\n",
        "from sklearn.preprocessing import StandardScaler\n",
        "\n",
        "# 数据准备\n",
        "\n",
        "ratings = pd.read_csv('/content/drive/MyDrive/ml-latest-small/ratings.csv')\n",
        "movies = pd.read_csv('/content/drive/MyDrive/ml-latest-small/movies.csv')\n",
        "\n",
        "# 选择活跃用户和热门电影\n",
        "user_counts = ratings['userId'].value_counts()\n",
        "movie_counts = ratings['movieId'].value_counts()\n",
        "active_users = user_counts[user_counts >= 20].index\n",
        "popular_movies = movie_counts[movie_counts >= 50].index\n",
        "\n",
        "filtered_ratings = ratings[ratings['userId'].isin(active_users) &\n",
        "                          ratings['movieId'].isin(popular_movies)]\n",
        "\n",
        "# 创建映射字典\n",
        "user_ids = filtered_ratings['userId'].unique()\n",
        "movie_ids = filtered_ratings['movieId'].unique()\n",
        "user_id_map = {uid: i for i, uid in enumerate(user_ids)}\n",
        "movie_id_map = {mid: i for i, mid in enumerate(movie_ids)}\n",
        "\n",
        "# 转换为连续索引\n",
        "filtered_ratings['user_idx'] = filtered_ratings['userId'].map(user_id_map)\n",
        "filtered_ratings['movie_idx'] = filtered_ratings['movieId'].map(movie_id_map)\n",
        "\n",
        "# 标准化评分\n",
        "scaler = StandardScaler()\n",
        "filtered_ratings['rating_norm'] = scaler.fit_transform(filtered_ratings[['rating']])\n",
        "\n",
        "# 定义模型维度\n",
        "num_users = len(user_ids)\n",
        "num_movies = len(movie_ids)\n",
        "K = 10  # 潜在因子维度\n",
        "\n",
        "with pm.Model() as bayesian_pmf:\n",
        "    # 用户和电影潜在因子矩阵\n",
        "    U = pm.Normal(\"U\", mu=0, sigma=0.1, shape=(num_users, K))\n",
        "    V = pm.Normal(\"V\", mu=0, sigma=0.1, shape=(num_movies, K))\n",
        "\n",
        "    # 偏置项\n",
        "    user_bias = pm.Normal(\"user_bias\", mu=0, sigma=0.1, shape=num_users)\n",
        "    movie_bias = pm.Normal(\"movie_bias\", mu=0, sigma=0.1, shape=num_movies)\n",
        "    global_bias = pm.Normal(\"global_bias\", mu=0, sigma=0.1)\n",
        "\n",
        "    # 预测评分\n",
        "    r_hat = global_bias + user_bias[filtered_ratings['user_idx']] + \\\n",
        "            movie_bias[filtered_ratings['movie_idx']] + \\\n",
        "            pm.math.sum(U[filtered_ratings['user_idx']] * V[filtered_ratings['movie_idx']], axis=1)\n",
        "\n",
        "    # 观测噪声\n",
        "    sigma = pm.HalfNormal(\"sigma\", sigma=0.5)\n",
        "\n",
        "    # 似然函数\n",
        "    R = pm.Normal(\"R\", mu=r_hat, sigma=sigma, observed=filtered_ratings['rating_norm'])\n",
        "\n",
        "    # 采样\n",
        "    trace = pm.sample(\n",
        "        draws=1000,\n",
        "        tune=1000,\n",
        "        chains=4,\n",
        "        target_accept=0.9,\n",
        "        return_inferencedata=True\n",
        "    )"
      ],
      "metadata": {
        "colab": {
          "base_uri": "https://localhost:8080/",
          "height": 455,
          "referenced_widgets": [
            "8e695a56c33c4f9b83ced97c1c648a9a",
            "9b55f29811aa40df866d35959e940235"
          ]
        },
        "id": "6FUmU2vDEavt",
        "outputId": "a65a753d-702d-4c18-f11f-9026fe255691"
      },
      "execution_count": 17,
      "outputs": [
        {
          "output_type": "stream",
          "name": "stderr",
          "text": [
            "<ipython-input-17-0598fd6cc789>:27: SettingWithCopyWarning: \n",
            "A value is trying to be set on a copy of a slice from a DataFrame.\n",
            "Try using .loc[row_indexer,col_indexer] = value instead\n",
            "\n",
            "See the caveats in the documentation: https://pandas.pydata.org/pandas-docs/stable/user_guide/indexing.html#returning-a-view-versus-a-copy\n",
            "  filtered_ratings['user_idx'] = filtered_ratings['userId'].map(user_id_map)\n",
            "<ipython-input-17-0598fd6cc789>:28: SettingWithCopyWarning: \n",
            "A value is trying to be set on a copy of a slice from a DataFrame.\n",
            "Try using .loc[row_indexer,col_indexer] = value instead\n",
            "\n",
            "See the caveats in the documentation: https://pandas.pydata.org/pandas-docs/stable/user_guide/indexing.html#returning-a-view-versus-a-copy\n",
            "  filtered_ratings['movie_idx'] = filtered_ratings['movieId'].map(movie_id_map)\n",
            "<ipython-input-17-0598fd6cc789>:32: SettingWithCopyWarning: \n",
            "A value is trying to be set on a copy of a slice from a DataFrame.\n",
            "Try using .loc[row_indexer,col_indexer] = value instead\n",
            "\n",
            "See the caveats in the documentation: https://pandas.pydata.org/pandas-docs/stable/user_guide/indexing.html#returning-a-view-versus-a-copy\n",
            "  filtered_ratings['rating_norm'] = scaler.fit_transform(filtered_ratings[['rating']])\n"
          ]
        },
        {
          "output_type": "display_data",
          "data": {
            "text/plain": [
              "Output()"
            ],
            "application/vnd.jupyter.widget-view+json": {
              "version_major": 2,
              "version_minor": 0,
              "model_id": "8e695a56c33c4f9b83ced97c1c648a9a"
            }
          },
          "metadata": {}
        },
        {
          "output_type": "display_data",
          "data": {
            "text/plain": [],
            "text/html": [
              "<pre style=\"white-space:pre;overflow-x:auto;line-height:normal;font-family:Menlo,'DejaVu Sans Mono',consolas,'Courier New',monospace\"></pre>\n"
            ]
          },
          "metadata": {}
        }
      ]
    },
    {
      "cell_type": "code",
      "source": [
        "import arviz as az\n",
        "\n",
        "\n",
        "display(az.summary(trace))"
      ],
      "metadata": {
        "colab": {
          "base_uri": "https://localhost:8080/",
          "height": 423
        },
        "id": "fF2UbbSZlw1o",
        "outputId": "cda1eef1-57ab-4e05-8feb-248c3285f728"
      },
      "execution_count": 37,
      "outputs": [
        {
          "output_type": "display_data",
          "data": {
            "text/plain": [
              "                 mean     sd  hdi_3%  hdi_97%  mcse_mean  mcse_sd  ess_bulk  \\\n",
              "U[0, 0]        -0.002  0.098  -0.177    0.186      0.001    0.002    6396.0   \n",
              "U[0, 1]        -0.001  0.102  -0.184    0.195      0.001    0.002    6577.0   \n",
              "U[0, 2]         0.000  0.100  -0.184    0.190      0.001    0.002    6280.0   \n",
              "U[0, 3]        -0.001  0.099  -0.182    0.189      0.001    0.002    5975.0   \n",
              "U[0, 4]        -0.001  0.096  -0.174    0.184      0.001    0.002    7167.0   \n",
              "...               ...    ...     ...      ...        ...      ...       ...   \n",
              "user_bias[601] -0.037  0.049  -0.130    0.054      0.001    0.001    7427.0   \n",
              "user_bias[602]  0.035  0.067  -0.098    0.158      0.001    0.001    6771.0   \n",
              "user_bias[603] -0.284  0.045  -0.372   -0.203      0.001    0.001    5321.0   \n",
              "user_bias[604] -0.096  0.087  -0.267    0.059      0.001    0.002    6102.0   \n",
              "user_bias[605]  0.339  0.051   0.244    0.432      0.001    0.001    6160.0   \n",
              "\n",
              "                ess_tail  r_hat  \n",
              "U[0, 0]           2766.0    1.0  \n",
              "U[0, 1]           2892.0    1.0  \n",
              "U[0, 2]           2760.0    1.0  \n",
              "U[0, 3]           2829.0    1.0  \n",
              "U[0, 4]           3033.0    1.0  \n",
              "...                  ...    ...  \n",
              "user_bias[601]    2904.0    1.0  \n",
              "user_bias[602]    2339.0    1.0  \n",
              "user_bias[603]    2956.0    1.0  \n",
              "user_bias[604]    2490.0    1.0  \n",
              "user_bias[605]    2742.0    1.0  \n",
              "\n",
              "[11618 rows x 9 columns]"
            ],
            "text/html": [
              "\n",
              "  <div id=\"df-1e4fe807-9152-4a3d-bbff-277390bdf7b6\" class=\"colab-df-container\">\n",
              "    <div>\n",
              "<style scoped>\n",
              "    .dataframe tbody tr th:only-of-type {\n",
              "        vertical-align: middle;\n",
              "    }\n",
              "\n",
              "    .dataframe tbody tr th {\n",
              "        vertical-align: top;\n",
              "    }\n",
              "\n",
              "    .dataframe thead th {\n",
              "        text-align: right;\n",
              "    }\n",
              "</style>\n",
              "<table border=\"1\" class=\"dataframe\">\n",
              "  <thead>\n",
              "    <tr style=\"text-align: right;\">\n",
              "      <th></th>\n",
              "      <th>mean</th>\n",
              "      <th>sd</th>\n",
              "      <th>hdi_3%</th>\n",
              "      <th>hdi_97%</th>\n",
              "      <th>mcse_mean</th>\n",
              "      <th>mcse_sd</th>\n",
              "      <th>ess_bulk</th>\n",
              "      <th>ess_tail</th>\n",
              "      <th>r_hat</th>\n",
              "    </tr>\n",
              "  </thead>\n",
              "  <tbody>\n",
              "    <tr>\n",
              "      <th>U[0, 0]</th>\n",
              "      <td>-0.002</td>\n",
              "      <td>0.098</td>\n",
              "      <td>-0.177</td>\n",
              "      <td>0.186</td>\n",
              "      <td>0.001</td>\n",
              "      <td>0.002</td>\n",
              "      <td>6396.0</td>\n",
              "      <td>2766.0</td>\n",
              "      <td>1.0</td>\n",
              "    </tr>\n",
              "    <tr>\n",
              "      <th>U[0, 1]</th>\n",
              "      <td>-0.001</td>\n",
              "      <td>0.102</td>\n",
              "      <td>-0.184</td>\n",
              "      <td>0.195</td>\n",
              "      <td>0.001</td>\n",
              "      <td>0.002</td>\n",
              "      <td>6577.0</td>\n",
              "      <td>2892.0</td>\n",
              "      <td>1.0</td>\n",
              "    </tr>\n",
              "    <tr>\n",
              "      <th>U[0, 2]</th>\n",
              "      <td>0.000</td>\n",
              "      <td>0.100</td>\n",
              "      <td>-0.184</td>\n",
              "      <td>0.190</td>\n",
              "      <td>0.001</td>\n",
              "      <td>0.002</td>\n",
              "      <td>6280.0</td>\n",
              "      <td>2760.0</td>\n",
              "      <td>1.0</td>\n",
              "    </tr>\n",
              "    <tr>\n",
              "      <th>U[0, 3]</th>\n",
              "      <td>-0.001</td>\n",
              "      <td>0.099</td>\n",
              "      <td>-0.182</td>\n",
              "      <td>0.189</td>\n",
              "      <td>0.001</td>\n",
              "      <td>0.002</td>\n",
              "      <td>5975.0</td>\n",
              "      <td>2829.0</td>\n",
              "      <td>1.0</td>\n",
              "    </tr>\n",
              "    <tr>\n",
              "      <th>U[0, 4]</th>\n",
              "      <td>-0.001</td>\n",
              "      <td>0.096</td>\n",
              "      <td>-0.174</td>\n",
              "      <td>0.184</td>\n",
              "      <td>0.001</td>\n",
              "      <td>0.002</td>\n",
              "      <td>7167.0</td>\n",
              "      <td>3033.0</td>\n",
              "      <td>1.0</td>\n",
              "    </tr>\n",
              "    <tr>\n",
              "      <th>...</th>\n",
              "      <td>...</td>\n",
              "      <td>...</td>\n",
              "      <td>...</td>\n",
              "      <td>...</td>\n",
              "      <td>...</td>\n",
              "      <td>...</td>\n",
              "      <td>...</td>\n",
              "      <td>...</td>\n",
              "      <td>...</td>\n",
              "    </tr>\n",
              "    <tr>\n",
              "      <th>user_bias[601]</th>\n",
              "      <td>-0.037</td>\n",
              "      <td>0.049</td>\n",
              "      <td>-0.130</td>\n",
              "      <td>0.054</td>\n",
              "      <td>0.001</td>\n",
              "      <td>0.001</td>\n",
              "      <td>7427.0</td>\n",
              "      <td>2904.0</td>\n",
              "      <td>1.0</td>\n",
              "    </tr>\n",
              "    <tr>\n",
              "      <th>user_bias[602]</th>\n",
              "      <td>0.035</td>\n",
              "      <td>0.067</td>\n",
              "      <td>-0.098</td>\n",
              "      <td>0.158</td>\n",
              "      <td>0.001</td>\n",
              "      <td>0.001</td>\n",
              "      <td>6771.0</td>\n",
              "      <td>2339.0</td>\n",
              "      <td>1.0</td>\n",
              "    </tr>\n",
              "    <tr>\n",
              "      <th>user_bias[603]</th>\n",
              "      <td>-0.284</td>\n",
              "      <td>0.045</td>\n",
              "      <td>-0.372</td>\n",
              "      <td>-0.203</td>\n",
              "      <td>0.001</td>\n",
              "      <td>0.001</td>\n",
              "      <td>5321.0</td>\n",
              "      <td>2956.0</td>\n",
              "      <td>1.0</td>\n",
              "    </tr>\n",
              "    <tr>\n",
              "      <th>user_bias[604]</th>\n",
              "      <td>-0.096</td>\n",
              "      <td>0.087</td>\n",
              "      <td>-0.267</td>\n",
              "      <td>0.059</td>\n",
              "      <td>0.001</td>\n",
              "      <td>0.002</td>\n",
              "      <td>6102.0</td>\n",
              "      <td>2490.0</td>\n",
              "      <td>1.0</td>\n",
              "    </tr>\n",
              "    <tr>\n",
              "      <th>user_bias[605]</th>\n",
              "      <td>0.339</td>\n",
              "      <td>0.051</td>\n",
              "      <td>0.244</td>\n",
              "      <td>0.432</td>\n",
              "      <td>0.001</td>\n",
              "      <td>0.001</td>\n",
              "      <td>6160.0</td>\n",
              "      <td>2742.0</td>\n",
              "      <td>1.0</td>\n",
              "    </tr>\n",
              "  </tbody>\n",
              "</table>\n",
              "<p>11618 rows × 9 columns</p>\n",
              "</div>\n",
              "    <div class=\"colab-df-buttons\">\n",
              "\n",
              "  <div class=\"colab-df-container\">\n",
              "    <button class=\"colab-df-convert\" onclick=\"convertToInteractive('df-1e4fe807-9152-4a3d-bbff-277390bdf7b6')\"\n",
              "            title=\"Convert this dataframe to an interactive table.\"\n",
              "            style=\"display:none;\">\n",
              "\n",
              "  <svg xmlns=\"http://www.w3.org/2000/svg\" height=\"24px\" viewBox=\"0 -960 960 960\">\n",
              "    <path d=\"M120-120v-720h720v720H120Zm60-500h600v-160H180v160Zm220 220h160v-160H400v160Zm0 220h160v-160H400v160ZM180-400h160v-160H180v160Zm440 0h160v-160H620v160ZM180-180h160v-160H180v160Zm440 0h160v-160H620v160Z\"/>\n",
              "  </svg>\n",
              "    </button>\n",
              "\n",
              "  <style>\n",
              "    .colab-df-container {\n",
              "      display:flex;\n",
              "      gap: 12px;\n",
              "    }\n",
              "\n",
              "    .colab-df-convert {\n",
              "      background-color: #E8F0FE;\n",
              "      border: none;\n",
              "      border-radius: 50%;\n",
              "      cursor: pointer;\n",
              "      display: none;\n",
              "      fill: #1967D2;\n",
              "      height: 32px;\n",
              "      padding: 0 0 0 0;\n",
              "      width: 32px;\n",
              "    }\n",
              "\n",
              "    .colab-df-convert:hover {\n",
              "      background-color: #E2EBFA;\n",
              "      box-shadow: 0px 1px 2px rgba(60, 64, 67, 0.3), 0px 1px 3px 1px rgba(60, 64, 67, 0.15);\n",
              "      fill: #174EA6;\n",
              "    }\n",
              "\n",
              "    .colab-df-buttons div {\n",
              "      margin-bottom: 4px;\n",
              "    }\n",
              "\n",
              "    [theme=dark] .colab-df-convert {\n",
              "      background-color: #3B4455;\n",
              "      fill: #D2E3FC;\n",
              "    }\n",
              "\n",
              "    [theme=dark] .colab-df-convert:hover {\n",
              "      background-color: #434B5C;\n",
              "      box-shadow: 0px 1px 3px 1px rgba(0, 0, 0, 0.15);\n",
              "      filter: drop-shadow(0px 1px 2px rgba(0, 0, 0, 0.3));\n",
              "      fill: #FFFFFF;\n",
              "    }\n",
              "  </style>\n",
              "\n",
              "    <script>\n",
              "      const buttonEl =\n",
              "        document.querySelector('#df-1e4fe807-9152-4a3d-bbff-277390bdf7b6 button.colab-df-convert');\n",
              "      buttonEl.style.display =\n",
              "        google.colab.kernel.accessAllowed ? 'block' : 'none';\n",
              "\n",
              "      async function convertToInteractive(key) {\n",
              "        const element = document.querySelector('#df-1e4fe807-9152-4a3d-bbff-277390bdf7b6');\n",
              "        const dataTable =\n",
              "          await google.colab.kernel.invokeFunction('convertToInteractive',\n",
              "                                                    [key], {});\n",
              "        if (!dataTable) return;\n",
              "\n",
              "        const docLinkHtml = 'Like what you see? Visit the ' +\n",
              "          '<a target=\"_blank\" href=https://colab.research.google.com/notebooks/data_table.ipynb>data table notebook</a>'\n",
              "          + ' to learn more about interactive tables.';\n",
              "        element.innerHTML = '';\n",
              "        dataTable['output_type'] = 'display_data';\n",
              "        await google.colab.output.renderOutput(dataTable, element);\n",
              "        const docLink = document.createElement('div');\n",
              "        docLink.innerHTML = docLinkHtml;\n",
              "        element.appendChild(docLink);\n",
              "      }\n",
              "    </script>\n",
              "  </div>\n",
              "\n",
              "\n",
              "    <div id=\"df-45feb705-22a9-42d0-af95-c99812c1d7a0\">\n",
              "      <button class=\"colab-df-quickchart\" onclick=\"quickchart('df-45feb705-22a9-42d0-af95-c99812c1d7a0')\"\n",
              "                title=\"Suggest charts\"\n",
              "                style=\"display:none;\">\n",
              "\n",
              "<svg xmlns=\"http://www.w3.org/2000/svg\" height=\"24px\"viewBox=\"0 0 24 24\"\n",
              "     width=\"24px\">\n",
              "    <g>\n",
              "        <path d=\"M19 3H5c-1.1 0-2 .9-2 2v14c0 1.1.9 2 2 2h14c1.1 0 2-.9 2-2V5c0-1.1-.9-2-2-2zM9 17H7v-7h2v7zm4 0h-2V7h2v10zm4 0h-2v-4h2v4z\"/>\n",
              "    </g>\n",
              "</svg>\n",
              "      </button>\n",
              "\n",
              "<style>\n",
              "  .colab-df-quickchart {\n",
              "      --bg-color: #E8F0FE;\n",
              "      --fill-color: #1967D2;\n",
              "      --hover-bg-color: #E2EBFA;\n",
              "      --hover-fill-color: #174EA6;\n",
              "      --disabled-fill-color: #AAA;\n",
              "      --disabled-bg-color: #DDD;\n",
              "  }\n",
              "\n",
              "  [theme=dark] .colab-df-quickchart {\n",
              "      --bg-color: #3B4455;\n",
              "      --fill-color: #D2E3FC;\n",
              "      --hover-bg-color: #434B5C;\n",
              "      --hover-fill-color: #FFFFFF;\n",
              "      --disabled-bg-color: #3B4455;\n",
              "      --disabled-fill-color: #666;\n",
              "  }\n",
              "\n",
              "  .colab-df-quickchart {\n",
              "    background-color: var(--bg-color);\n",
              "    border: none;\n",
              "    border-radius: 50%;\n",
              "    cursor: pointer;\n",
              "    display: none;\n",
              "    fill: var(--fill-color);\n",
              "    height: 32px;\n",
              "    padding: 0;\n",
              "    width: 32px;\n",
              "  }\n",
              "\n",
              "  .colab-df-quickchart:hover {\n",
              "    background-color: var(--hover-bg-color);\n",
              "    box-shadow: 0 1px 2px rgba(60, 64, 67, 0.3), 0 1px 3px 1px rgba(60, 64, 67, 0.15);\n",
              "    fill: var(--button-hover-fill-color);\n",
              "  }\n",
              "\n",
              "  .colab-df-quickchart-complete:disabled,\n",
              "  .colab-df-quickchart-complete:disabled:hover {\n",
              "    background-color: var(--disabled-bg-color);\n",
              "    fill: var(--disabled-fill-color);\n",
              "    box-shadow: none;\n",
              "  }\n",
              "\n",
              "  .colab-df-spinner {\n",
              "    border: 2px solid var(--fill-color);\n",
              "    border-color: transparent;\n",
              "    border-bottom-color: var(--fill-color);\n",
              "    animation:\n",
              "      spin 1s steps(1) infinite;\n",
              "  }\n",
              "\n",
              "  @keyframes spin {\n",
              "    0% {\n",
              "      border-color: transparent;\n",
              "      border-bottom-color: var(--fill-color);\n",
              "      border-left-color: var(--fill-color);\n",
              "    }\n",
              "    20% {\n",
              "      border-color: transparent;\n",
              "      border-left-color: var(--fill-color);\n",
              "      border-top-color: var(--fill-color);\n",
              "    }\n",
              "    30% {\n",
              "      border-color: transparent;\n",
              "      border-left-color: var(--fill-color);\n",
              "      border-top-color: var(--fill-color);\n",
              "      border-right-color: var(--fill-color);\n",
              "    }\n",
              "    40% {\n",
              "      border-color: transparent;\n",
              "      border-right-color: var(--fill-color);\n",
              "      border-top-color: var(--fill-color);\n",
              "    }\n",
              "    60% {\n",
              "      border-color: transparent;\n",
              "      border-right-color: var(--fill-color);\n",
              "    }\n",
              "    80% {\n",
              "      border-color: transparent;\n",
              "      border-right-color: var(--fill-color);\n",
              "      border-bottom-color: var(--fill-color);\n",
              "    }\n",
              "    90% {\n",
              "      border-color: transparent;\n",
              "      border-bottom-color: var(--fill-color);\n",
              "    }\n",
              "  }\n",
              "</style>\n",
              "\n",
              "      <script>\n",
              "        async function quickchart(key) {\n",
              "          const quickchartButtonEl =\n",
              "            document.querySelector('#' + key + ' button');\n",
              "          quickchartButtonEl.disabled = true;  // To prevent multiple clicks.\n",
              "          quickchartButtonEl.classList.add('colab-df-spinner');\n",
              "          try {\n",
              "            const charts = await google.colab.kernel.invokeFunction(\n",
              "                'suggestCharts', [key], {});\n",
              "          } catch (error) {\n",
              "            console.error('Error during call to suggestCharts:', error);\n",
              "          }\n",
              "          quickchartButtonEl.classList.remove('colab-df-spinner');\n",
              "          quickchartButtonEl.classList.add('colab-df-quickchart-complete');\n",
              "        }\n",
              "        (() => {\n",
              "          let quickchartButtonEl =\n",
              "            document.querySelector('#df-45feb705-22a9-42d0-af95-c99812c1d7a0 button');\n",
              "          quickchartButtonEl.style.display =\n",
              "            google.colab.kernel.accessAllowed ? 'block' : 'none';\n",
              "        })();\n",
              "      </script>\n",
              "    </div>\n",
              "\n",
              "    </div>\n",
              "  </div>\n"
            ],
            "application/vnd.google.colaboratory.intrinsic+json": {
              "type": "dataframe",
              "summary": "{\n  \"name\": \"display(az\",\n  \"rows\": 11618,\n  \"fields\": [\n    {\n      \"column\": \"mean\",\n      \"properties\": {\n        \"dtype\": \"number\",\n        \"std\": 0.057668455450580657,\n        \"min\": -0.947,\n        \"max\": 0.875,\n        \"num_unique_values\": 539,\n        \"samples\": [\n          0.324,\n          0.211,\n          0.099\n        ],\n        \"semantic_type\": \"\",\n        \"description\": \"\"\n      }\n    },\n    {\n      \"column\": \"sd\",\n      \"properties\": {\n        \"dtype\": \"number\",\n        \"std\": 0.008658950033451355,\n        \"min\": 0.003,\n        \"max\": 0.107,\n        \"num_unique_values\": 71,\n        \"samples\": [\n          0.074,\n          0.098,\n          0.052\n        ],\n        \"semantic_type\": \"\",\n        \"description\": \"\"\n      }\n    },\n    {\n      \"column\": \"hdi_3%\",\n      \"properties\": {\n        \"dtype\": \"number\",\n        \"std\": 0.060498261092005276,\n        \"min\": -1.077,\n        \"max\": 0.869,\n        \"num_unique_values\": 553,\n        \"samples\": [\n          0.222,\n          -0.525,\n          -0.121\n        ],\n        \"semantic_type\": \"\",\n        \"description\": \"\"\n      }\n    },\n    {\n      \"column\": \"hdi_97%\",\n      \"properties\": {\n        \"dtype\": \"number\",\n        \"std\": 0.05995136613495239,\n        \"min\": -0.817,\n        \"max\": 0.88,\n        \"num_unique_values\": 535,\n        \"samples\": [\n          -0.066,\n          -0.079,\n          0.111\n        ],\n        \"semantic_type\": \"\",\n        \"description\": \"\"\n      }\n    },\n    {\n      \"column\": \"mcse_mean\",\n      \"properties\": {\n        \"dtype\": \"number\",\n        \"std\": 2.9337499710606096e-05,\n        \"min\": 0.0,\n        \"max\": 0.002,\n        \"num_unique_values\": 3,\n        \"samples\": [\n          0.001,\n          0.002,\n          0.0\n        ],\n        \"semantic_type\": \"\",\n        \"description\": \"\"\n      }\n    },\n    {\n      \"column\": \"mcse_sd\",\n      \"properties\": {\n        \"dtype\": \"number\",\n        \"std\": 0.00025380388238782224,\n        \"min\": 0.0,\n        \"max\": 0.003,\n        \"num_unique_values\": 4,\n        \"samples\": [\n          0.001,\n          0.0,\n          0.002\n        ],\n        \"semantic_type\": \"\",\n        \"description\": \"\"\n      }\n    },\n    {\n      \"column\": \"ess_bulk\",\n      \"properties\": {\n        \"dtype\": \"number\",\n        \"std\": 764.4620246175963,\n        \"min\": 2039.0,\n        \"max\": 10649.0,\n        \"num_unique_values\": 3212,\n        \"samples\": [\n          6233.0,\n          7207.0,\n          5475.0\n        ],\n        \"semantic_type\": \"\",\n        \"description\": \"\"\n      }\n    },\n    {\n      \"column\": \"ess_tail\",\n      \"properties\": {\n        \"dtype\": \"number\",\n        \"std\": 216.93040808402844,\n        \"min\": 1732.0,\n        \"max\": 3478.0,\n        \"num_unique_values\": 1140,\n        \"samples\": [\n          2381.0,\n          3229.0,\n          2871.0\n        ],\n        \"semantic_type\": \"\",\n        \"description\": \"\"\n      }\n    },\n    {\n      \"column\": \"r_hat\",\n      \"properties\": {\n        \"dtype\": \"number\",\n        \"std\": 0.001002714379645184,\n        \"min\": 1.0,\n        \"max\": 1.01,\n        \"num_unique_values\": 2,\n        \"samples\": [\n          1.01,\n          1.0\n        ],\n        \"semantic_type\": \"\",\n        \"description\": \"\"\n      }\n    }\n  ]\n}"
            }
          },
          "metadata": {}
        }
      ]
    },
    {
      "cell_type": "code",
      "source": [
        "import arviz as az\n",
        "\n",
        "az.to_netcdf(trace, \"pmf_trace.nc\")\n"
      ],
      "metadata": {
        "colab": {
          "base_uri": "https://localhost:8080/",
          "height": 35
        },
        "id": "VPVPtdzhpyH4",
        "outputId": "0515093d-9934-437b-f8d3-850b5ca535b1"
      },
      "execution_count": 24,
      "outputs": [
        {
          "output_type": "execute_result",
          "data": {
            "text/plain": [
              "'pmf_trace.nc'"
            ],
            "application/vnd.google.colaboratory.intrinsic+json": {
              "type": "string"
            }
          },
          "metadata": {},
          "execution_count": 24
        }
      ]
    },
    {
      "cell_type": "code",
      "source": [
        "\n",
        "trace = az.from_netcdf(\"pmf_trace.nc\")\n"
      ],
      "metadata": {
        "id": "CWXceYFauOH1"
      },
      "execution_count": 25,
      "outputs": []
    },
    {
      "cell_type": "code",
      "source": [
        "import arviz as az\n",
        "import numpy as np\n",
        "\n",
        "u = 0\n",
        "m = 0\n",
        "\n",
        "\n",
        "U_all = trace.posterior[\"U\"].stack(sample=(\"chain\", \"draw\")).transpose(\"sample\", \"U_dim_0\", \"U_dim_1\").values  # shape: [samples, num_users, K]\n",
        "V_all = trace.posterior[\"V\"].stack(sample=(\"chain\", \"draw\")).transpose(\"sample\", \"V_dim_0\", \"V_dim_1\").values\n",
        "user_bias_all = trace.posterior[\"user_bias\"].stack(sample=(\"chain\", \"draw\")).transpose(\"sample\", \"user_bias_dim_0\").values  # [samples, num_users]\n",
        "movie_bias_all = trace.posterior[\"movie_bias\"].stack(sample=(\"chain\", \"draw\")).transpose(\"sample\", \"movie_bias_dim_0\").values\n",
        "global_bias_all = trace.posterior[\"global_bias\"].stack(sample=(\"chain\", \"draw\")).values.flatten()  # [samples]\n",
        "\n",
        "# shape = [samples, K]\n",
        "u_vec = U_all[:, u, :]\n",
        "v_vec = V_all[:, m, :]\n",
        "\n",
        "dot = np.sum(u_vec * v_vec, axis=1)\n",
        "\n",
        "pred_z = dot + user_bias_all[:, u] + movie_bias_all[:, m] + global_bias_all\n",
        "\n",
        "pred = pred_z * rating_std + rating_mean\n",
        "\n",
        "\n",
        "print(f\"[User {u}, Movie {m}] Predicted Rating = {pred.mean():.2f}, 95% CI: ({np.percentile(pred, 2.5):.2f} ~ {np.percentile(pred, 97.5):.2f})\")\n"
      ],
      "metadata": {
        "colab": {
          "base_uri": "https://localhost:8080/"
        },
        "id": "GwDUfk6GuUe2",
        "outputId": "b7fe840c-ef7e-4144-ba6b-ccd1b2a089f7"
      },
      "execution_count": 34,
      "outputs": [
        {
          "output_type": "stream",
          "name": "stdout",
          "text": [
            "[User 0, Movie 0] Predicted Rating = 4.30, 95% CI: (4.15 ~ 4.45)\n"
          ]
        }
      ]
    },
    {
      "cell_type": "code",
      "source": [
        "import matplotlib.pyplot as plt\n",
        "\n",
        "plt.hist(pred, bins=30, color='skyblue')\n",
        "plt.axvline(pred.mean(), color='red', linestyle='--', label='Mean')\n",
        "plt.axvline(np.percentile(pred, 2.5), color='gray', linestyle='--', label='95% CI')\n",
        "plt.axvline(np.percentile(pred, 97.5), color='gray', linestyle='--')\n",
        "plt.title(\"Posterior distribution of predicted rating\")\n",
        "plt.xlabel(\"Predicted rating\")\n",
        "plt.ylabel(\"Frequency\")\n",
        "plt.legend()\n",
        "plt.show()\n"
      ],
      "metadata": {
        "colab": {
          "base_uri": "https://localhost:8080/",
          "height": 472
        },
        "id": "7DZy5gIKwQMt",
        "outputId": "de42e42c-5b40-4c9f-c611-35b7a3402307"
      },
      "execution_count": 35,
      "outputs": [
        {
          "output_type": "display_data",
          "data": {
            "text/plain": [
              "<Figure size 640x480 with 1 Axes>"
            ],
            "image/png": "[encoded data removed]"
          },
          "metadata": {}
        }
      ]
    },
    {
      "cell_type": "code",
      "source": [
        "for u, m in [(0,0), (1,3), (5,10), (12,15), (20,25)]:\n",
        "    u_vec = U_all[:, u, :]\n",
        "    v_vec = V_all[:, m, :]\n",
        "    dot = np.sum(u_vec * v_vec, axis=1)\n",
        "    pred_z = dot + user_bias_all[:, u] + movie_bias_all[:, m] + global_bias_all\n",
        "    pred = pred_z * rating_std + rating_mean\n",
        "    print(f\"[User {u}, Movie {m}] Predicted Rating = {pred.mean():.2f}, 95% CI: ({np.percentile(pred, 2.5):.2f} ~ {np.percentile(pred, 97.5):.2f})\")\n"
      ],
      "metadata": {
        "colab": {
          "base_uri": "https://localhost:8080/"
        },
        "id": "L6H_KMuexwww",
        "outputId": "fd33d297-4803-40db-abd5-86fac6203d11"
      },
      "execution_count": 36,
      "outputs": [
        {
          "output_type": "stream",
          "name": "stdout",
          "text": [
            "[User 0, Movie 0] Predicted Rating = 4.30, 95% CI: (4.15 ~ 4.45)\n",
            "[User 1, Movie 3] Predicted Rating = 4.00, 95% CI: (3.81 ~ 4.20)\n",
            "[User 5, Movie 10] Predicted Rating = 3.91, 95% CI: (3.72 ~ 4.10)\n",
            "[User 12, Movie 15] Predicted Rating = 3.82, 95% CI: (3.60 ~ 4.02)\n",
            "[User 20, Movie 25] Predicted Rating = 3.45, 95% CI: (3.31 ~ 3.60)\n"
          ]
        }
      ]
    },
    {
      "cell_type": "code",
      "source": [
        "from sklearn.model_selection import train_test_split\n",
        "\n",
        "\n",
        "train_df, test_df = train_test_split(\n",
        "    filtered_ratings,\n",
        "    test_size=0.2,\n",
        "    random_state=42,\n",
        "    shuffle=True\n",
        ")\n",
        "\n",
        "print(f\"Train size: {len(train_df)}, Test size: {len(test_df)}\")\n"
      ],
      "metadata": {
        "colab": {
          "base_uri": "https://localhost:8080/"
        },
        "id": "wJoEz1L-yqOg",
        "outputId": "1f367f38-c5de-4cd0-f795-f30105482b51"
      },
      "execution_count": 39,
      "outputs": [
        {
          "output_type": "stream",
          "name": "stdout",
          "text": [
            "Train size: 33088, Test size: 8272\n"
          ]
        }
      ]
    },
    {
      "cell_type": "code",
      "source": [
        "from sklearn.metrics import mean_squared_error, mean_absolute_error\n",
        "import numpy as np\n",
        "\n",
        "\n",
        "preds = []\n",
        "true = []\n",
        "\n",
        "for _, row in test_df.iterrows():\n",
        "    u = int(row[\"user_idx\"])\n",
        "    m = int(row[\"movie_idx\"])\n",
        "\n",
        "    u_vec = U_all[:, u, :]  # shape: [samples, K]\n",
        "    v_vec = V_all[:, m, :]  # shape: [samples, K]\n",
        "\n",
        "    dot = np.sum(u_vec * v_vec, axis=1)\n",
        "    pred_z = dot + user_bias_all[:, u] + movie_bias_all[:, m] + global_bias_all\n",
        "    pred = pred_z * rating_std + rating_mean\n",
        "\n",
        "    preds.append(pred.mean())\n",
        "    true.append(row[\"rating\"])\n",
        "\n",
        "# RMSE & MAE\n",
        "rmse = np.sqrt(mean_squared_error(true, preds))\n",
        "mae = mean_absolute_error(true, preds)\n",
        "\n",
        "print(f\"Test RMSE: {rmse:.4f}\")\n",
        "print(f\"Test MAE: {mae:.4f}\")\n"
      ],
      "metadata": {
        "colab": {
          "base_uri": "https://localhost:8080/"
        },
        "id": "WjOqBra0yfah",
        "outputId": "72cab311-2d00-4bff-b923-ed545e8d2293"
      },
      "execution_count": 41,
      "outputs": [
        {
          "output_type": "stream",
          "name": "stdout",
          "text": [
            "Test RMSE: 0.8642\n",
            "Test MAE: 0.6551\n"
          ]
        }
      ]
    }
  ],
  "metadata": {
    "colab": {
      "provenance": []
    },
    "kernelspec": {
      "display_name": "Python 3",
      "name": "python3"
    },
    "language_info": {
      "name": "python"
    },
    "widgets": {
      "application/vnd.jupyter.widget-state+json": {
        "8e695a56c33c4f9b83ced97c1c648a9a": {
          "model_module": "@jupyter-widgets/output",
          "model_name": "OutputModel",
          "model_module_version": "1.0.0",
          "state": {
            "_dom_classes": [],
            "_model_module": "@jupyter-widgets/output",
            "_model_module_version": "1.0.0",
            "_model_name": "OutputModel",
            "_view_count": null,
            "_view_module": "@jupyter-widgets/output",
            "_view_module_version": "1.0.0",
            "_view_name": "OutputView",
            "layout": "IPY_MODEL_9b55f29811aa40df866d35959e940235",
            "msg_id": "",
            "outputs": [
              {
                "output_type": "display_data",
                "data": {
                  "text/plain": "                                                                                                                   \n \u001b[1m \u001b[0m\u001b[1mProgress                 \u001b[0m\u001b[1m \u001b[0m \u001b[1m \u001b[0m\u001b[1mDraws\u001b[0m\u001b[1m \u001b[0m \u001b[1m \u001b[0m\u001b[1mDivergences\u001b[0m\u001b[1m \u001b[0m \u001b[1m \u001b[0m\u001b[1mStep size\u001b[0m\u001b[1m \u001b[0m \u001b[1m \u001b[0m\u001b[1mGrad evals\u001b[0m\u001b[1m \u001b[0m \u001b[1m \u001b[0m\u001b[1mSampling Speed\u001b[0m\u001b[1m \u001b[0m \u001b[1m \u001b[0m\u001b[1mElapsed\u001b[0m\u001b[1m \u001b[0m \u001b[1m \u001b[0m\u001b[1mRemaining\u001b[0m\u001b[1m \u001b[0m \n ───────────────────────────────────────────────────────────────────────────────────────────────────────────────── \n  \u001b[38;2;31;119;180m━━━━━━━━━━━━━━━━━━━━━━━━━\u001b[0m   2000    0             0.14        31           1.05 s/draws     0:34:53   0:00:00    \n  \u001b[38;2;31;119;180m━━━━━━━━━━━━━━━━━━━━━━━━━\u001b[0m   2000    0             0.15        31           2.07 s/draws     1:08:59   0:00:00    \n  \u001b[38;2;31;119;180m━━━━━━━━━━━━━━━━━━━━━━━━━\u001b[0m   2000    0             0.13        31           3.14 s/draws     1:44:43   0:00:00    \n  \u001b[38;2;31;119;180m━━━━━━━━━━━━━━━━━━━━━━━━━\u001b[0m   2000    0             0.11        31           4.15 s/draws     2:18:19   0:00:00    \n                                                                                                                   \n",
                  "text/html": "<pre style=\"white-space:pre;overflow-x:auto;line-height:normal;font-family:Menlo,'DejaVu Sans Mono',consolas,'Courier New',monospace\">                                                                                                                   \n <span style=\"font-weight: bold\"> Progress                  </span> <span style=\"font-weight: bold\"> Draws </span> <span style=\"font-weight: bold\"> Divergences </span> <span style=\"font-weight: bold\"> Step size </span> <span style=\"font-weight: bold\"> Grad evals </span> <span style=\"font-weight: bold\"> Sampling Speed </span> <span style=\"font-weight: bold\"> Elapsed </span> <span style=\"font-weight: bold\"> Remaining </span> \n ───────────────────────────────────────────────────────────────────────────────────────────────────────────────── \n  <span style=\"color: #1f77b4; text-decoration-color: #1f77b4\">━━━━━━━━━━━━━━━━━━━━━━━━━</span>   2000    0             0.14        31           1.05 s/draws     0:34:53   0:00:00    \n  <span style=\"color: #1f77b4; text-decoration-color: #1f77b4\">━━━━━━━━━━━━━━━━━━━━━━━━━</span>   2000    0             0.15        31           2.07 s/draws     1:08:59   0:00:00    \n  <span style=\"color: #1f77b4; text-decoration-color: #1f77b4\">━━━━━━━━━━━━━━━━━━━━━━━━━</span>   2000    0             0.13        31           3.14 s/draws     1:44:43   0:00:00    \n  <span style=\"color: #1f77b4; text-decoration-color: #1f77b4\">━━━━━━━━━━━━━━━━━━━━━━━━━</span>   2000    0             0.11        31           4.15 s/draws     2:18:19   0:00:00    \n                                                                                                                   \n</pre>\n"
                },
                "metadata": {}
              }
            ]
          }
        },
        "9b55f29811aa40df866d35959e940235": {
          "model_module": "@jupyter-widgets/base",
          "model_name": "LayoutModel",
          "model_module_version": "1.2.0",
          "state": {
            "_model_module": "@jupyter-widgets/base",
            "_model_module_version": "1.2.0",
            "_model_name": "LayoutModel",
            "_view_count": null,
            "_view_module": "@jupyter-widgets/base",
            "_view_module_version": "1.2.0",
            "_view_name": "LayoutView",
            "align_content": null,
            "align_items": null,
            "align_self": null,
            "border": null,
            "bottom": null,
            "display": null,
            "flex": null,
            "flex_flow": null,
            "grid_area": null,
            "grid_auto_columns": null,
            "grid_auto_flow": null,
            "grid_auto_rows": null,
            "grid_column": null,
            "grid_gap": null,
            "grid_row": null,
            "grid_template_areas": null,
            "grid_template_columns": null,
            "grid_template_rows": null,
            "height": null,
            "justify_content": null,
            "justify_items": null,
            "left": null,
            "margin": null,
            "max_height": null,
            "max_width": null,
            "min_height": null,
            "min_width": null,
            "object_fit": null,
            "object_position": null,
            "order": null,
            "overflow": null,
            "overflow_x": null,
            "overflow_y": null,
            "padding": null,
            "right": null,
            "top": null,
            "visibility": null,
            "width": null
          }
        }
      }
    }
  },
  "nbformat": 4,
  "nbformat_minor": 0
}